{
  "cells": [
    {
      "cell_type": "markdown",
      "metadata": {
        "id": "view-in-github",
        "colab_type": "text"
      },
      "source": [
        "<a href=\"https://colab.research.google.com/github/rangga-15/code_with_rangga/blob/main/class_and_object.ipynb\" target=\"_parent\"><img src=\"https://colab.research.google.com/assets/colab-badge.svg\" alt=\"Open In Colab\"/></a>"
      ]
    },
    {
      "cell_type": "code",
      "source": [
        "# @title Default title text\n",
        "class Rambut:\n",
        "    def __init__(self, bentuk, warna):\n",
        "        self.bentuk = bentuk\n",
        "        self.warna = warna\n",
        "\n",
        "    def tampilkan(self, nama):\n",
        "        print(f\"{nama} details:\")\n",
        "        print(f\"Rambutz:  {self.bentuk}\")\n",
        "        print(f\"Warna Rambut:  {self.warna}\\n\")\n",
        "\n",
        "# Membuat object untuk Budi dan Michael\n",
        "budi = Rambut(\"Ikal\", \"Hitam\")\n",
        "michael = Rambut(\"Lurus\", \"Pirang\")\n",
        "\n",
        "# Menampilkan data masing-masing\n",
        "budi.tampilkan(\"Budi\")\n",
        "michael.tampilkan(\"Michael\")\n"
      ],
      "metadata": {
        "id": "a9ScZq6i4haX",
        "outputId": "699c3393-afda-409b-cd84-51eeea9e881e",
        "colab": {
          "base_uri": "https://localhost:8080/"
        }
      },
      "execution_count": 1,
      "outputs": [
        {
          "output_type": "stream",
          "name": "stdout",
          "text": [
            "Budi details:\n",
            "Rambutz:  Ikal\n",
            "Warna Rambut:  Hitam\n",
            "\n",
            "Michael details:\n",
            "Rambutz:  Lurus\n",
            "Warna Rambut:  Pirang\n",
            "\n"
          ]
        }
      ]
    }
  ],
  "metadata": {
    "colab": {
      "name": "Welcome To Colab",
      "toc_visible": true,
      "provenance": [],
      "include_colab_link": true
    },
    "kernelspec": {
      "display_name": "Python 3",
      "name": "python3"
    }
  },
  "nbformat": 4,
  "nbformat_minor": 0
}