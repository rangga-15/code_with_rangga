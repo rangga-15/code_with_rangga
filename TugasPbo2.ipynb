{
  "nbformat": 4,
  "nbformat_minor": 0,
  "metadata": {
    "colab": {
      "provenance": [],
      "mount_file_id": "1ZTUre9Wd5wHCcLV7NnQKGI3UIYXAvLlT",
      "authorship_tag": "ABX9TyOLvs1ZtPf6byYudu9WeCqZ",
      "include_colab_link": true
    },
    "kernelspec": {
      "name": "python3",
      "display_name": "Python 3"
    },
    "language_info": {
      "name": "python"
    }
  },
  "cells": [
    {
      "cell_type": "markdown",
      "metadata": {
        "id": "view-in-github",
        "colab_type": "text"
      },
      "source": [
        "<a href=\"https://colab.research.google.com/github/rangga-15/code_with_rangga/blob/main/TugasPbo2.ipynb\" target=\"_parent\"><img src=\"https://colab.research.google.com/assets/colab-badge.svg\" alt=\"Open In Colab\"/></a>"
      ]
    },
    {
      "cell_type": "code",
      "execution_count": 12,
      "metadata": {
        "colab": {
          "base_uri": "https://localhost:8080/"
        },
        "id": "AxvqEEQ1AJux",
        "outputId": "6be17e44-133e-4f5e-a0a1-fea5c59203a4"
      },
      "outputs": [
        {
          "output_type": "stream",
          "name": "stdout",
          "text": [
            "mahasiswa Ari Gilang Rangga, dengan nim 230705114. krs telah dicetak\n"
          ]
        }
      ],
      "source": [
        "class Mahasiswa:\n",
        "  def __init__(self, nama, nim):\n",
        "    self.nama = nama\n",
        "    self.nim = nim\n",
        "\n",
        "  def cetak_krs(self):\n",
        "    print(f\"mahasiswa {self.nama}, dengan nim {self.nim}. krs telah dicetak\")\n",
        "\n",
        "mhs = Mahasiswa(\"Ari Gilang Rangga\", \"230705114\")\n",
        "mhs.cetak_krs()\n",
        "\n",
        ""
      ]
    },
    {
      "cell_type": "code",
      "source": [
        "import math\n",
        "\n",
        "class Lingkaran:\n",
        "    def __init__(self, jari_jari):\n",
        "        self.jari_jari = jari_jari\n",
        "\n",
        "    def buat_lingkaran(self):\n",
        "        luas = math.pi * self.jari_jari**2\n",
        "        keliling = 2 * math.pi * self.jari_jari\n",
        "        print(f\"Lingkaran dengan jari-jari {self.jari_jari}:\")\n",
        "        print(f\"- Luas: {luas:.2f}\")\n",
        "        print(f\"- Keliling: {keliling:.2f}\")\n",
        "\n",
        "# Membuat objek bit dari kelas Lingkaran dengan jari-jari 5\n",
        "bit = Lingkaran(5)\n",
        "\n",
        "# Memanggil method buat_lingkaran pada objek bit\n",
        "bit.buat_lingkaran()"
      ],
      "metadata": {
        "colab": {
          "base_uri": "https://localhost:8080/"
        },
        "id": "aYlFdxqDCBLN",
        "outputId": "b4333569-d5c6-446c-f86e-017f85e47f04"
      },
      "execution_count": 13,
      "outputs": [
        {
          "output_type": "stream",
          "name": "stdout",
          "text": [
            "Lingkaran dengan jari-jari 5:\n",
            "- Luas: 78.54\n",
            "- Keliling: 31.42\n"
          ]
        }
      ]
    },
    {
      "cell_type": "code",
      "source": [
        "class PersegiPanjang:\n",
        "    def __init__(self, panjang, lebar):\n",
        "        self.panjang = panjang\n",
        "        self.lebar = lebar\n",
        "\n",
        "    def hitung_luas(self):\n",
        "        luas = self.panjang * self.lebar\n",
        "        print(f\"Luas persegi panjang: {luas}\")\n",
        "\n",
        "# Membuat objek persegi dari kelas PersegiPanjang\n",
        "persegi = PersegiPanjang(10, 5)\n",
        "\n",
        "# Memanggil method hitung_luas pada objek persegi\n",
        "persegi.hitung_luas()"
      ],
      "metadata": {
        "id": "Ovy11VheEd_K"
      },
      "execution_count": null,
      "outputs": []
    },
    {
      "cell_type": "code",
      "source": [
        "import math\n",
        "\n",
        "class Segitiga:\n",
        "    def __init__(self, alas, tinggi):\n",
        "        self.alas = alas\n",
        "        self.tinggi = tinggi\n",
        "\n",
        "    def hitung_luas(self):\n",
        "        luas = 0.5 * self.alas * self.tinggi\n",
        "        return luas\n",
        "\n",
        "    def hitung_keliling(self, sisi_a, sisi_b, sisi_c):\n",
        "        keliling = sisi_a + sisi_b + sisi_c\n",
        "        return keliling\n",
        "\n",
        "    def cek_jenis_segitiga(self, sisi_a, sisi_b, sisi_c):\n",
        "         if sisi_a == sisi_b == sisi_c:\n",
        "             return \"Sama Sisi\"\n",
        "         elif sisi_a == sisi_b or sisi_a == sisi_c or sisi_b == sisi_c:\n",
        "             return \"Sama Kaki\"\n",
        "         else:\n",
        "             return \"Sembarang\"\n",
        "\n",
        "# Membuat objek segitiga dari kelas Segitiga dengan alas 10 dan tinggi 5\n",
        "segitiga = Segitiga(10, 5)\n",
        "\n",
        "# Memanggil method hitung_luas dan menampilkan hasilnya\n",
        "luas = segitiga.hitung_luas()\n",
        "print(f\"Luas segitiga: {luas}\")\n",
        "\n",
        "# Memanggil method hitung_keliling dan menampilkan hasilnya\n",
        "keliling = segitiga.hitung_keliling(5, 5, 5)\n",
        "print(f\"Keliling segitiga: {keliling}\")\n",
        "\n",
        "# Memanggil method cek_jenis_segitiga dan menampilkan hasilnya\n",
        "jenis_segitiga = segitiga.cek_jenis_segitiga(5, 5, 5)\n",
        "print(f\"Jenis segitiga: {jenis_segitiga}\")"
      ],
      "metadata": {
        "colab": {
          "base_uri": "https://localhost:8080/"
        },
        "id": "UTNhC5EREeui",
        "outputId": "a9fa70b1-24be-4b91-da7e-0a31be940961"
      },
      "execution_count": 15,
      "outputs": [
        {
          "output_type": "stream",
          "name": "stdout",
          "text": [
            "Luas segitiga: 25.0\n",
            "Keliling segitiga: 15\n",
            "Jenis segitiga: Sama Sisi\n"
          ]
        }
      ]
    },
    {
      "cell_type": "code",
      "source": [
        "class Buku:\n",
        "    def __init__(self, judul, penulis, tahun_terbit):\n",
        "        self.judul = judul\n",
        "        self.penulis = penulis\n",
        "        self.tahun_terbit = tahun_terbit\n",
        "\n",
        "    def tampilkan_info(self):\n",
        "        print(f\"Judul: {self.judul}\")\n",
        "        print(f\"Penulis: {self.penulis}\")\n",
        "        print(f\"Tahun Terbit: {self.tahun_terbit}\")\n",
        "\n",
        "# Membuat objek buku1 dari kelas Buku\n",
        "buku1 = Buku(\"Laskar Pelangi\", \"Andrea Hirata\", 2005)\n",
        "\n",
        "# Memanggil method tampilkan_info pada objek buku1\n",
        "buku1.tampilkan_info()"
      ],
      "metadata": {
        "colab": {
          "base_uri": "https://localhost:8080/"
        },
        "id": "oR0YYc2rEfFX",
        "outputId": "63fc7efd-ee86-427e-c556-0e647eb0b439"
      },
      "execution_count": 16,
      "outputs": [
        {
          "output_type": "stream",
          "name": "stdout",
          "text": [
            "Judul: Laskar Pelangi\n",
            "Penulis: Andrea Hirata\n",
            "Tahun Terbit: 2005\n"
          ]
        }
      ]
    },
    {
      "cell_type": "code",
      "source": [
        "from google.colab import drive\n",
        "drive.mount('/content/drive')"
      ],
      "metadata": {
        "id": "gGAB3ADkOi4Y"
      },
      "execution_count": null,
      "outputs": []
    }
  ]
}